{
 "cells": [
  {
   "cell_type": "markdown",
   "metadata": {
    "toc": true
   },
   "source": [
    "<h1>Table of Contents<span class=\"tocSkip\"></span></h1>\n",
    "<div class=\"toc\"><ul class=\"toc-item\"><li><span><a href=\"#初期設定\" data-toc-modified-id=\"初期設定-1\"><span class=\"toc-item-num\">1&nbsp;&nbsp;</span>初期設定</a></span><ul class=\"toc-item\"><li><span><a href=\"#インポート\" data-toc-modified-id=\"インポート-1.1\"><span class=\"toc-item-num\">1.1&nbsp;&nbsp;</span>インポート</a></span></li><li><span><a href=\"#パス指定\" data-toc-modified-id=\"パス指定-1.2\"><span class=\"toc-item-num\">1.2&nbsp;&nbsp;</span>パス指定</a></span></li></ul></li><li><span><a href=\"#フォルダ整理\" data-toc-modified-id=\"フォルダ整理-2\"><span class=\"toc-item-num\">2&nbsp;&nbsp;</span>フォルダ整理</a></span></li><li><span><a href=\"#顔検知\" data-toc-modified-id=\"顔検知-3\"><span class=\"toc-item-num\">3&nbsp;&nbsp;</span>顔検知</a></span><ul class=\"toc-item\"><li><span><a href=\"#モデル読み込み\" data-toc-modified-id=\"モデル読み込み-3.1\"><span class=\"toc-item-num\">3.1&nbsp;&nbsp;</span>モデル読み込み</a></span></li><li><span><a href=\"#関数\" data-toc-modified-id=\"関数-3.2\"><span class=\"toc-item-num\">3.2&nbsp;&nbsp;</span>関数</a></span></li><li><span><a href=\"#顔検出\" data-toc-modified-id=\"顔検出-3.3\"><span class=\"toc-item-num\">3.3&nbsp;&nbsp;</span>顔検出</a></span></li></ul></li><li><span><a href=\"#画像分割\" data-toc-modified-id=\"画像分割-4\"><span class=\"toc-item-num\">4&nbsp;&nbsp;</span>画像分割</a></span></li></ul></div>"
   ]
  },
  {
   "cell_type": "markdown",
   "metadata": {
    "collapsed": true
   },
   "source": [
    "# 初期設定"
   ]
  },
  {
   "cell_type": "markdown",
   "metadata": {},
   "source": [
    "## インポート"
   ]
  },
  {
   "cell_type": "code",
   "execution_count": 2,
   "metadata": {},
   "outputs": [],
   "source": [
    "import cv2\n",
    "import os\n",
    "import shutil"
   ]
  },
  {
   "cell_type": "markdown",
   "metadata": {},
   "source": [
    "## パス指定"
   ]
  },
  {
   "cell_type": "code",
   "execution_count": 4,
   "metadata": {},
   "outputs": [],
   "source": [
    "#original image\n",
    "path_to_image = './image/'\n",
    "\n",
    "#cropped image\n",
    "path_to_cropped = './cropped/'\n",
    "\n",
    "#top image(input)\n",
    "path_to_top = './image_top/'\n",
    "\n",
    "#bottom image(output)\n",
    "path_to_bottom = './image_bottom/'"
   ]
  },
  {
   "cell_type": "code",
   "execution_count": 24,
   "metadata": {},
   "outputs": [],
   "source": [
    "#cropped image size\n",
    "height = 100\n",
    "width = 100"
   ]
  },
  {
   "cell_type": "markdown",
   "metadata": {},
   "source": [
    "# フォルダ整理"
   ]
  },
  {
   "cell_type": "markdown",
   "metadata": {},
   "source": [
    "#merge images to one folder\n",
    "\n",
    "folder_list = os.listdir('lfw')\n",
    "for folder in folder_list:\n",
    "    path_to_folder = './lfw/{}/'.format(folder)\n",
    "    file_list = os.listdir(path_to_folder)\n",
    "    for file in file_list:\n",
    "        path_to_file = './lfw/{}/{}'.format(folder, file)\n",
    "        shutil.move(path_to_file, path_to_image_original)"
   ]
  },
  {
   "cell_type": "markdown",
   "metadata": {},
   "source": [
    "# 顔検知"
   ]
  },
  {
   "cell_type": "markdown",
   "metadata": {},
   "source": [
    "## モデル読み込み"
   ]
  },
  {
   "cell_type": "code",
   "execution_count": 6,
   "metadata": {},
   "outputs": [],
   "source": [
    "#load model\n",
    "face_classifier = cv2.CascadeClassifier('./haarcascade_frontalface_default.xml')"
   ]
  },
  {
   "cell_type": "markdown",
   "metadata": {},
   "source": [
    "## 関数"
   ]
  },
  {
   "cell_type": "code",
   "execution_count": 7,
   "metadata": {},
   "outputs": [],
   "source": [
    "#show image(cv2.imshow is not convenient)\n",
    "def imshow(img):\n",
    "    cv2.namedWindow('image', cv2.WINDOW_NORMAL)\n",
    "    cv2.imshow('image',img)\n",
    "    cv2.waitKey(0)\n",
    "    cv2.destroyAllWindows()"
   ]
  },
  {
   "cell_type": "code",
   "execution_count": 9,
   "metadata": {},
   "outputs": [],
   "source": [
    "# crop face from image\n",
    "def facecrop(image, save=True):\n",
    "\n",
    "    img = cv2.imread('{}{}'.format(path_to_image, image))\n",
    "    faces = face_classifier.detectMultiScale(img, 1.3, 5)\n",
    "    \n",
    "    if faces != None:\n",
    "        for x, y, w, h in faces:\n",
    "            #cv2.rectangle(img, (x, y), (x + w, y + h), (255, 0, 0), 2)\n",
    "            image_face = img[y: y + h, x: x + w]\n",
    "\n",
    "        if save == True:\n",
    "            cv2.imwrite('./cropped/{}'.format(image), image_face)"
   ]
  },
  {
   "cell_type": "markdown",
   "metadata": {},
   "source": [
    "## 顔検出"
   ]
  },
  {
   "cell_type": "code",
   "execution_count": 10,
   "metadata": {},
   "outputs": [],
   "source": [
    "save=True"
   ]
  },
  {
   "cell_type": "code",
   "execution_count": 17,
   "metadata": {},
   "outputs": [],
   "source": [
    "image_list = os.listdir(path_to_image)"
   ]
  },
  {
   "cell_type": "markdown",
   "metadata": {},
   "source": [
    "#face detect\n",
    "for image in image_list:\n",
    "    \n",
    "    img = cv2.imread('{}{}'.format(path_to_image, image))\n",
    "    faces = face_classifier.detectMultiScale(img, 1.3, 5)\n",
    "    \n",
    "    for x, y, w, h in faces:\n",
    "        #cv2.rectangle(img, (x, y), (x + w, y + h), (255, 0, 0), 2)\n",
    "        image_face = img[y: y + h, x: x + w]\n",
    "        image_face = cv2.resize(image_face, (100, 100))\n",
    "\n",
    "    if save == True:\n",
    "        cv2.imwrite('./cropped/{}'.format(image), image_face)"
   ]
  },
  {
   "cell_type": "markdown",
   "metadata": {},
   "source": [
    "# 画像分割"
   ]
  },
  {
   "cell_type": "code",
   "execution_count": 12,
   "metadata": {},
   "outputs": [],
   "source": [
    "#separate position for produce input and output image\n",
    "y_separate = 50"
   ]
  },
  {
   "cell_type": "code",
   "execution_count": 23,
   "metadata": {},
   "outputs": [],
   "source": [
    "#separate images\n",
    "for image_name in image_list:\n",
    "    \n",
    "    image = cv2.imread('{}{}'.format(path_to_cropped, image_name))\n",
    "    \n",
    "    image_top = image[0: y_separate, 0:width]\n",
    "    image_bottom = image[y_separate:height, 0:width]\n",
    "\n",
    "    if save == True:\n",
    "        cv2.imwrite('./image_top/{}'.format(image_name), image_top)\n",
    "        cv2.imwrite('./image_bottom/{}'.format(image_name), image_bottom)"
   ]
  },
  {
   "cell_type": "code",
   "execution_count": null,
   "metadata": {},
   "outputs": [],
   "source": []
  },
  {
   "cell_type": "code",
   "execution_count": null,
   "metadata": {},
   "outputs": [],
   "source": []
  }
 ],
 "metadata": {
  "anaconda-cloud": {},
  "kernelspec": {
   "display_name": "Python 3",
   "language": "python",
   "name": "python3"
  },
  "language_info": {
   "codemirror_mode": {
    "name": "ipython",
    "version": 3
   },
   "file_extension": ".py",
   "mimetype": "text/x-python",
   "name": "python",
   "nbconvert_exporter": "python",
   "pygments_lexer": "ipython3",
   "version": "3.6.8"
  },
  "toc": {
   "base_numbering": 1,
   "nav_menu": {},
   "number_sections": true,
   "sideBar": true,
   "skip_h1_title": false,
   "title_cell": "Table of Contents",
   "title_sidebar": "Contents",
   "toc_cell": true,
   "toc_position": {},
   "toc_section_display": true,
   "toc_window_display": true
  }
 },
 "nbformat": 4,
 "nbformat_minor": 1
}
